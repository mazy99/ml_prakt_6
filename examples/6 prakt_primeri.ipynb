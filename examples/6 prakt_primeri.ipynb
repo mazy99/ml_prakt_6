{
 "cells": [
  {
   "cell_type": "code",
   "execution_count": 2,
   "id": "400f4e85-dba1-4dff-8216-7b32700dc9f1",
   "metadata": {},
   "outputs": [
    {
     "name": "stdout",
     "output_type": "stream",
     "text": [
      "     Имя  Возраст        Город\n",
      "0   Анна     25.0       Москва\n",
      "1   Иван     30.0         None\n",
      "2  Ольга      NaN       Казань\n",
      "3   None     40.0  Новосибирск\n",
      "4  Мария     35.0          СПб\n"
     ]
    }
   ],
   "source": [
    "import pandas as pd \n",
    "\n",
    "data = {\n",
    "\"Имя\": [\"Анна\", \"Иван\", \"Ольга\", None, \"Мария\"],\n",
    "\"Возраст\": [25, 30, None, 40, 35],\n",
    "\"Город\": [\"Москва\", None, \"Казань\", \"Новосибирск\", \"СПб\"]\n",
    "}\n",
    "df = pd.DataFrame(data)\n",
    "\n",
    "print(df)"
   ]
  },
  {
   "cell_type": "markdown",
   "id": "734881cb-f096-4399-8d52-bb4653495b98",
   "metadata": {},
   "source": [
    "# Метод .isna() (эквивалент .isnull())"
   ]
  },
  {
   "cell_type": "code",
   "execution_count": 5,
   "id": "44f9e2a7-63ca-4a78-9fe2-07fddcbaee3d",
   "metadata": {},
   "outputs": [
    {
     "name": "stdout",
     "output_type": "stream",
     "text": [
      "     Имя  Возраст  Город\n",
      "0  False    False  False\n",
      "1  False    False   True\n",
      "2  False     True  False\n",
      "3   True    False  False\n",
      "4  False    False  False\n"
     ]
    }
   ],
   "source": [
    "print(df.isna())"
   ]
  },
  {
   "cell_type": "markdown",
   "id": "ebb114df-0b98-4ff5-8977-bbdf226c28e8",
   "metadata": {},
   "source": [
    "### Чтобы подсчитать количество пропусков в каждом столбце, используем .sum() :"
   ]
  },
  {
   "cell_type": "code",
   "execution_count": 6,
   "id": "23307b5d-bafa-4229-a733-694eaa380794",
   "metadata": {},
   "outputs": [
    {
     "name": "stdout",
     "output_type": "stream",
     "text": [
      "Имя        1\n",
      "Возраст    1\n",
      "Город      1\n",
      "dtype: int64\n"
     ]
    }
   ],
   "source": [
    "print(df.isna().sum())"
   ]
  },
  {
   "cell_type": "markdown",
   "id": "ad1a41f8-02bd-4ae1-82b9-197da8ae54fb",
   "metadata": {},
   "source": [
    "# Метод .notna() (эквивалент .notnull() )"
   ]
  },
  {
   "cell_type": "code",
   "execution_count": 7,
   "id": "9105bfde-d513-472c-a88f-8950db0bd64c",
   "metadata": {},
   "outputs": [
    {
     "name": "stdout",
     "output_type": "stream",
     "text": [
      "     Имя  Возраст  Город\n",
      "0   True     True   True\n",
      "1   True     True  False\n",
      "2   True    False   True\n",
      "3  False     True   True\n",
      "4   True     True   True\n"
     ]
    }
   ],
   "source": [
    "print(df.notna())"
   ]
  },
  {
   "cell_type": "markdown",
   "id": "6d723b5c-8a2d-4771-9126-8f54a03af072",
   "metadata": {},
   "source": [
    "### Чтобы подсчитать количество заполненных значений, используем .sum() :"
   ]
  },
  {
   "cell_type": "code",
   "execution_count": 8,
   "id": "c7fc670f-2f78-484e-8b98-588730d4db9f",
   "metadata": {},
   "outputs": [
    {
     "name": "stdout",
     "output_type": "stream",
     "text": [
      "Имя        4\n",
      "Возраст    4\n",
      "Город      4\n",
      "dtype: int64\n"
     ]
    }
   ],
   "source": [
    "print(df.notna().sum())"
   ]
  },
  {
   "cell_type": "markdown",
   "id": "f5f05714-c702-48d4-9273-72e61b733a74",
   "metadata": {},
   "source": [
    "# Визуализация пропусков с missingno"
   ]
  },
  {
   "cell_type": "code",
   "execution_count": 3,
   "id": "e0536c4f-b380-421a-9360-0cf42924f86d",
   "metadata": {},
   "outputs": [
    {
     "name": "stdout",
     "output_type": "stream",
     "text": [
      "       Имя  Возраст         Город    Доход Образование  Стаж работы\n",
      "0     Анна     25.0        Москва  50000.0         NaN          3.0\n",
      "1     Иван      NaN           СПб  60000.0      Высшее          8.0\n",
      "2    Ольга     22.0           NaN      NaN     Среднее          1.0\n",
      "3     Петр     40.0   Новосибирск  70000.0      Высшее         15.0\n",
      "4    Мария     35.0           СПб  65000.0         NaN         10.0\n",
      "5  Дмитрий      NaN  Екатеринбург  55000.0      Высшее          NaN\n",
      "6    Елена     28.0           NaN  48000.0     Среднее          5.0\n",
      "7   Сергей     31.0        Казань      NaN      Высшее          7.0\n",
      "8    Алина      NaN         Томск  52000.0         NaN          NaN\n",
      "9    Артем     29.0           NaN  58000.0     Среднее          2.0\n"
     ]
    }
   ],
   "source": [
    "import  numpy as np\n",
    "\n",
    "# Генерируем DataFrame с пропусками\n",
    "np.random. seed(42)\n",
    "\n",
    "data = {\n",
    "\"Имя\": [\"Анна\", \"Иван\", \"Ольга\", \"Петр\", \"Мария\", \"Дмитрий\",\n",
    "\"Елена\", \"Сергей\", \"Алина\", \"Артем\"],\n",
    "\"Возраст\": [25, np.nan, 22, 40, 35, np.nan, 28, 31, np.nan, 29],\n",
    "\"Город\": [\"Москва\", \"СПб\", np.nan, \"Новосибирск\", \"СПб\",\n",
    "\"Екатеринбург\", np.nan, \"Казань\", \"Томск\", np.nan],\n",
    "\"Доход\": [50000, 60000, np.nan, 70000, 65000, 55000, 48000,\n",
    "np.nan, 52000, 58000],\n",
    "\"Образование\": [np.nan, \"Высшее\", \"Среднее\", \"Высшее\", np.nan,\n",
    "\"Высшее\", \"Среднее\", \"Высшее\", np.nan, \"Среднее\"],\n",
    "\"Стаж работы\": [3, 8, 1, 15, 10, np.nan, 5, 7, np.nan, 2]\n",
    "}\n",
    "\n",
    "df = pd.DataFrame (data)\n",
    "print(df)"
   ]
  },
  {
   "cell_type": "markdown",
   "id": "27957a91-7053-489f-8dd9-bfdaa08f2b40",
   "metadata": {},
   "source": [
    "### Визуализация пропусков с MSNO.MATRIX()"
   ]
  },
  {
   "cell_type": "code",
   "execution_count": 14,
   "id": "83bda01e-129e-4462-be1c-883ed5d7e605",
   "metadata": {},
   "outputs": [
    {
     "data": {
      "image/png": "[encoded data removed]",
      "text/plain": [
       "<Figure size 2500x1000 with 2 Axes>"
      ]
     },
     "metadata": {},
     "output_type": "display_data"
    }
   ],
   "source": [
    "import missingno as msno\n",
    "import matplotlib.pyplot as plt\n",
    "\n",
    "msno.matrix(df)\n",
    "plt.show()"
   ]
  },
  {
   "cell_type": "markdown",
   "id": "b24822e2-55e0-4b50-8840-616417db8ba4",
   "metadata": {},
   "source": [
    "### Бар-график пропусков: MSNO.BAR()"
   ]
  },
  {
   "cell_type": "code",
   "execution_count": 15,
   "id": "10ffe584-92c0-4907-b1b9-dd2a0bb84105",
   "metadata": {},
   "outputs": [
    {
     "data": {
      "image/png": "[encoded data removed]",
      "text/plain": [
       "<Figure size 2500x1000 with 3 Axes>"
      ]
     },
     "metadata": {},
     "output_type": "display_data"
    }
   ],
   "source": [
    "msno.bar(df)\n",
    "plt.show()"
   ]
  },
  {
   "cell_type": "markdown",
   "id": "02e9b479-12e3-41dc-bcfc-1b7518ee4ce2",
   "metadata": {},
   "source": [
    "### Тепловая карта пропусков: MSNO.HEATMAP()"
   ]
  },
  {
   "cell_type": "code",
   "execution_count": 16,
   "id": "c97099b1-5071-4fd0-ac94-0e0daa048112",
   "metadata": {},
   "outputs": [
    {
     "data": {
      "image/png": "[encoded data removed]",
      "text/plain": [
       "<Figure size 2000x1200 with 2 Axes>"
      ]
     },
     "metadata": {},
     "output_type": "display_data"
    }
   ],
   "source": [
    "msno.heatmap(df)\n",
    "plt.show()"
   ]
  },
  {
   "cell_type": "markdown",
   "id": "4adfd8b6-e902-4bde-89d6-c49112a9ba4b",
   "metadata": {},
   "source": [
    "# Удаление пропущенных значений в DataFrame"
   ]
  },
  {
   "cell_type": "markdown",
   "id": "4eadfc2e-844f-4cb9-9eec-0e192b744640",
   "metadata": {},
   "source": [
    "### Удаление строк с пропусками ( dropna() )"
   ]
  },
  {
   "cell_type": "code",
   "execution_count": 12,
   "id": "710d03b8-7155-4288-877f-815809f4343c",
   "metadata": {},
   "outputs": [
    {
     "name": "stdout",
     "output_type": "stream",
     "text": [
      "       Имя  Возраст         Город    Доход\n",
      "0     Анна     25.0        Москва  50000.0\n",
      "1     Иван      NaN           СПб  60000.0\n",
      "2    Ольга     22.0           NaN      NaN\n",
      "3     Петр     40.0   Новосибирск  70000.0\n",
      "4    Мария     35.0           СПб  65000.0\n",
      "5  Дмитрий      NaN  Екатеринбург  55000.0\n"
     ]
    }
   ],
   "source": [
    "data = {\n",
    "\"Имя\": [\"Анна\", \"Иван\", \"Ольга\", \"Петр\", \"Мария\", \"Дмитрий\"],\n",
    "\"Возраст\": [25, np.nan, 22, 40, 35, np.nan],\n",
    "\"Город\": [\"Москва\", \"СПб\", np.nan, \"Новосибирск\", \"СПб\",\n",
    "\"Екатеринбург\"],\n",
    "\"Доход\": [50000, 60000, np.nan, 70000, 65000, 55000]\n",
    "}\n",
    "\n",
    "df = pd.DataFrame(data)\n",
    "print(df)"
   ]
  },
  {
   "cell_type": "code",
   "execution_count": 34,
   "id": "4ca39e7d-d7a7-427d-93d2-6e9b9e495628",
   "metadata": {},
   "outputs": [
    {
     "name": "stdout",
     "output_type": "stream",
     "text": [
      "     Имя  Возраст        Город    Доход\n",
      "0   Анна     25.0       Москва  50000.0\n",
      "3   Петр     40.0  Новосибирск  70000.0\n",
      "4  Мария     35.0          СПб  65000.0\n"
     ]
    }
   ],
   "source": [
    "df_cleaned = df.dropna()\n",
    "print(df_cleaned)"
   ]
  },
  {
   "cell_type": "markdown",
   "id": "33babd3b-0153-4cff-a391-0571b3a3654e",
   "metadata": {},
   "source": [
    "### Удаление строк, где все значения NaN ( how=\"all\" )"
   ]
  },
  {
   "cell_type": "code",
   "execution_count": 20,
   "id": "d56638bd-17f0-43e5-8062-6dcb10320ba7",
   "metadata": {},
   "outputs": [
    {
     "name": "stdout",
     "output_type": "stream",
     "text": [
      "       Имя  Возраст         Город    Доход\n",
      "0     Анна     25.0        Москва  50000.0\n",
      "1     Иван      NaN           СПб  60000.0\n",
      "2    Ольга     22.0           NaN      NaN\n",
      "3     Петр     40.0   Новосибирск  70000.0\n",
      "4    Мария     35.0           СПб  65000.0\n",
      "5  Дмитрий      NaN  Екатеринбург  55000.0\n"
     ]
    }
   ],
   "source": [
    "df_cleaned = df.dropna(how=\"all\")\n",
    "print(df_cleaned)"
   ]
  },
  {
   "cell_type": "markdown",
   "id": "910f9d66-14c1-48c5-9ff8-1428aa668602",
   "metadata": {},
   "source": [
    "### Удаление столбцов с пропусками ( dropna(axis=1) )"
   ]
  },
  {
   "cell_type": "code",
   "execution_count": 39,
   "id": "46720dfb-b5b2-4cd4-8ecb-a00b25dadb9d",
   "metadata": {},
   "outputs": [
    {
     "name": "stdout",
     "output_type": "stream",
     "text": [
      "       Имя\n",
      "0     Анна\n",
      "1     Иван\n",
      "2    Ольга\n",
      "3     Петр\n",
      "4    Мария\n",
      "5  Дмитрий\n"
     ]
    }
   ],
   "source": [
    "df_cleaned = df.dropna(axis=1)\n",
    "print(df_cleaned)"
   ]
  },
  {
   "cell_type": "markdown",
   "id": "f371adb5-9365-48b8-9189-5c3682f636ab",
   "metadata": {},
   "source": [
    "### Удаление строк/столбцов по количеству непустых значений ( thresh )"
   ]
  },
  {
   "cell_type": "code",
   "execution_count": 37,
   "id": "1836d59f-d787-46c3-b09e-693894ca9684",
   "metadata": {},
   "outputs": [
    {
     "name": "stdout",
     "output_type": "stream",
     "text": [
      "       Имя  Возраст         Город    Доход\n",
      "0     Анна     25.0        Москва  50000.0\n",
      "1     Иван      NaN           СПб  60000.0\n",
      "3     Петр     40.0   Новосибирск  70000.0\n",
      "4    Мария     35.0           СПб  65000.0\n",
      "5  Дмитрий      NaN  Екатеринбург  55000.0\n"
     ]
    }
   ],
   "source": [
    "df_cleaned = df.dropna(thresh=3)\n",
    "print(df_cleaned)"
   ]
  },
  {
   "cell_type": "code",
   "execution_count": 38,
   "id": "213e0575-f71a-45bb-8b54-7df836e0890e",
   "metadata": {},
   "outputs": [
    {
     "name": "stdout",
     "output_type": "stream",
     "text": [
      "       Имя  Возраст         Город    Доход\n",
      "0     Анна     25.0        Москва  50000.0\n",
      "1     Иван      NaN           СПб  60000.0\n",
      "2    Ольга     22.0           NaN      NaN\n",
      "3     Петр     40.0   Новосибирск  70000.0\n",
      "4    Мария     35.0           СПб  65000.0\n",
      "5  Дмитрий      NaN  Екатеринбург  55000.0\n"
     ]
    }
   ],
   "source": [
    "df_cleaned = df.dropna(axis = 1, thresh=1)\n",
    "print(df_cleaned)"
   ]
  },
  {
   "cell_type": "markdown",
   "id": "37aa2d35-34e9-42f5-a334-48ae62b50303",
   "metadata": {},
   "source": [
    "# Заполнение пропусков в DataFrame с помощью .fillna()"
   ]
  },
  {
   "cell_type": "markdown",
   "id": "fc45e43f-de51-420a-a193-bc88995795ca",
   "metadata": {},
   "source": [
    "### Заполнение константами"
   ]
  },
  {
   "cell_type": "code",
   "execution_count": 5,
   "id": "a95dfedd-cc13-47b6-8973-db0c17c24951",
   "metadata": {},
   "outputs": [
    {
     "name": "stdout",
     "output_type": "stream",
     "text": [
      "       Имя  Возраст         Город    Доход\n",
      "0     Анна     25.0        Москва  50000.0\n",
      "1     Иван     30.0           СПб  60000.0\n",
      "2    Ольга     22.0           NaN      NaN\n",
      "3     Петр     40.0   Новосибирск  70000.0\n",
      "4    Мария     35.0           СПб  65000.0\n",
      "5  Дмитрий     30.0  Екатеринбург  55000.0\n"
     ]
    }
   ],
   "source": [
    "df[\"Возраст\"]=df[\"Возраст\"].fillna(30)\n",
    "print(df)"
   ]
  },
  {
   "cell_type": "markdown",
   "id": "2ec86d54-b5dd-457e-a4c5-3f1e8fedddf9",
   "metadata": {},
   "source": [
    "### Заполнение статистическими мерами"
   ]
  },
  {
   "cell_type": "code",
   "execution_count": 11,
   "id": "e139c27a-3dbf-4b6d-b847-54104f2ad8f9",
   "metadata": {},
   "outputs": [
    {
     "name": "stdout",
     "output_type": "stream",
     "text": [
      "       Имя  Возраст         Город    Доход\n",
      "0     Анна     25.0        Москва  50000.0\n",
      "1     Иван     30.0           СПб  60000.0\n",
      "2    Ольга     22.0           NaN  60000.0\n",
      "3     Петр     40.0   Новосибирск  70000.0\n",
      "4    Мария     35.0           СПб  65000.0\n",
      "5  Дмитрий     30.0  Екатеринбург  55000.0\n"
     ]
    }
   ],
   "source": [
    "mean_value = df[\"Доход\"].mean()\n",
    "df[\"Доход\"]=df[\"Доход\"].fillna(mean_value)\n",
    "print(df)"
   ]
  },
  {
   "cell_type": "code",
   "execution_count": 13,
   "id": "710b18d9-7424-4989-a85f-f4db6b8c34e3",
   "metadata": {},
   "outputs": [
    {
     "name": "stdout",
     "output_type": "stream",
     "text": [
      "       Имя  Возраст         Город    Доход\n",
      "0     Анна     25.0        Москва  50000.0\n",
      "1     Иван      NaN           СПб  60000.0\n",
      "2    Ольга     22.0           NaN  60000.0\n",
      "3     Петр     40.0   Новосибирск  70000.0\n",
      "4    Мария     35.0           СПб  65000.0\n",
      "5  Дмитрий      NaN  Екатеринбург  55000.0\n"
     ]
    }
   ],
   "source": [
    "median_value =  df[\"Доход\"].median()\n",
    "df[\"Доход\"]=df[\"Доход\"].fillna(median_value)\n",
    "print(df)"
   ]
  },
  {
   "cell_type": "code",
   "execution_count": 14,
   "id": "74289a8a-6657-467e-b8ae-8cb8e0ebe4be",
   "metadata": {},
   "outputs": [
    {
     "name": "stdout",
     "output_type": "stream",
     "text": [
      "       Имя  Возраст         Город    Доход\n",
      "0     Анна     25.0        Москва  50000.0\n",
      "1     Иван      NaN           СПб  60000.0\n",
      "2    Ольга     22.0           СПб  60000.0\n",
      "3     Петр     40.0   Новосибирск  70000.0\n",
      "4    Мария     35.0           СПб  65000.0\n",
      "5  Дмитрий      NaN  Екатеринбург  55000.0\n"
     ]
    }
   ],
   "source": [
    "mode_value = df[\"Город\"].mode()[0]\n",
    "df[\"Город\"]=df[\"Город\"].fillna(mode_value)\n",
    "print(df)"
   ]
  },
  {
   "cell_type": "markdown",
   "id": "136a797d-aaa8-4bd2-b2b1-34e14d3ff299",
   "metadata": {},
   "source": [
    "### Пропагирование значений (методы ffill и bfill )"
   ]
  },
  {
   "cell_type": "code",
   "execution_count": 16,
   "id": "01e39d92-5302-4b19-9933-812143e4dea3",
   "metadata": {},
   "outputs": [
    {
     "name": "stdout",
     "output_type": "stream",
     "text": [
      "       Имя  Возраст         Город    Доход\n",
      "0     Анна     25.0        Москва  50000.0\n",
      "1     Иван     25.0           СПб  60000.0\n",
      "2    Ольга     22.0           СПб  60000.0\n",
      "3     Петр     40.0   Новосибирск  70000.0\n",
      "4    Мария     35.0           СПб  65000.0\n",
      "5  Дмитрий     35.0  Екатеринбург  55000.0\n"
     ]
    }
   ],
   "source": [
    "df[\"Возраст\"] = df[\"Возраст\"].ffill()\n",
    "print(df)"
   ]
  },
  {
   "cell_type": "markdown",
   "id": "721ea03f-5858-41ff-bf21-2e1e1287df26",
   "metadata": {},
   "source": [
    "# Интерполяция пропущенных значений в DataFrame с помощью .interpolate()"
   ]
  },
  {
   "cell_type": "code",
   "execution_count": 17,
   "id": "dc9364f7-78f6-4383-8c95-633f44e21d74",
   "metadata": {},
   "outputs": [
    {
     "name": "stdout",
     "output_type": "stream",
     "text": [
      "   день  температура  температура_interp\n",
      "0     1         20.0           20.000000\n",
      "1     2          NaN           21.333333\n",
      "2     3          NaN           22.666667\n",
      "3     4         24.0           24.000000\n",
      "4     5         25.0           25.000000\n"
     ]
    }
   ],
   "source": [
    "import pandas as pd\n",
    "import numpy as np\n",
    "\n",
    "df = pd.DataFrame({\n",
    "\"день\": [1, 2, 3, 4, 5],\n",
    "\"температура\": [20.0, np.nan, np.nan, 24.0, 25.0]\n",
    "})\n",
    "df[\"температура_interp\"] = df[\"температура\"].interpolate()\n",
    "print(df)"
   ]
  },
  {
   "cell_type": "markdown",
   "id": "4c36376e-56e4-47db-96a4-17a24b911f8b",
   "metadata": {},
   "source": [
    "### Полиномиальная интерполяция"
   ]
  },
  {
   "cell_type": "code",
   "execution_count": 20,
   "id": "b16fedc2-c9e4-4b44-abc6-c1cd9ea4129f",
   "metadata": {},
   "outputs": [
    {
     "name": "stdout",
     "output_type": "stream",
     "text": [
      "   день  температура  температура_interp  температура_poly\n",
      "0     1         20.0           20.000000         20.000000\n",
      "1     2          NaN           21.333333         21.500000\n",
      "2     3          NaN           22.666667         22.833333\n",
      "3     4         24.0           24.000000         24.000000\n",
      "4     5         25.0           25.000000         25.000000\n"
     ]
    }
   ],
   "source": [
    "df[\"температура_poly\"] = df[\"температура\"].interpolate(method=\"polynomial\", order=2)\n",
    "print(df)"
   ]
  },
  {
   "cell_type": "markdown",
   "id": "2571b372-2174-4786-af69-9af1402f00e0",
   "metadata": {},
   "source": [
    "### Интерполяция временных рядов ( method='time') "
   ]
  },
  {
   "cell_type": "code",
   "execution_count": 41,
   "id": "64392f87-d3ac-436e-a078-9785b1441b24",
   "metadata": {},
   "outputs": [
    {
     "name": "stdout",
     "output_type": "stream",
     "text": [
      "            уровень воды  интерполяция\n",
      "дата                                  \n",
      "2024-01-01           1.2           1.2\n",
      "2024-01-02           NaN           1.4\n",
      "2024-01-03           NaN           1.6\n",
      "2024-01-04           1.8           1.8\n",
      "2024-01-05           2.0           2.0\n"
     ]
    }
   ],
   "source": [
    "dates = pd.date_range(\"2024-01-01\", periods=5, freq=\"D\")\n",
    "df = pd.DataFrame({\n",
    "\"дата\": dates,\n",
    "\"уровень воды\": [1.2, np.nan, np.nan, 1.8, 2.0]\n",
    "})\n",
    "df.set_index(\"дата\", inplace=True)\n",
    "df[\"интерполяция\"] = df[\"уровень воды\"].interpolate(method=\"time\")\n",
    "print(df)"
   ]
  },
  {
   "cell_type": "markdown",
   "id": "7a7f955f-27e1-47bc-84d9-77f5d88b1f3d",
   "metadata": {},
   "source": [
    "# Обработка выбросов в pandas"
   ]
  },
  {
   "cell_type": "code",
   "execution_count": 63,
   "id": "3e87196f-e48e-4026-9f7f-468858ab1a5f",
   "metadata": {},
   "outputs": [
    {
     "name": "stdout",
     "output_type": "stream",
     "text": [
      "       Имя  Баланс на счете\n",
      "0     Анна            50000\n",
      "1     Иван            60000\n",
      "2    Ольга            45000\n",
      "3     Петр            30000\n",
      "4    Мария            65000\n",
      "5  Дмитрий           150000\n",
      "6    Елена           200000\n"
     ]
    }
   ],
   "source": [
    "import pandas as pd\n",
    "import numpy as np\n",
    "data = {\n",
    "\"Имя\": [\"Анна\", \"Иван\", \"Ольга\", \"Петр\", \"Мария\", \"Дмитрий\",\n",
    "\"Елена\"],\n",
    "\"Баланс на счете\": [50000, 60000, 45000, 30000, 65000, 150000,200000]\n",
    "}\n",
    "df = pd.DataFrame(data)\n",
    "print(df)"
   ]
  },
  {
   "cell_type": "markdown",
   "id": "18673409-bf56-4f8d-bf19-9afe0309fce3",
   "metadata": {},
   "source": [
    "### Удаление выбросов по межквартильному размаху (IQR"
   ]
  },
  {
   "cell_type": "code",
   "execution_count": 64,
   "id": "51e17b6b-1c9c-432f-beb0-2422ea0a2708",
   "metadata": {},
   "outputs": [
    {
     "name": "stdout",
     "output_type": "stream",
     "text": [
      "       Имя  Баланс на счете\n",
      "0     Анна            50000\n",
      "1     Иван            60000\n",
      "2    Ольга            45000\n",
      "3     Петр            30000\n",
      "4    Мария            65000\n",
      "5  Дмитрий           150000\n"
     ]
    }
   ],
   "source": [
    "\n",
    "Q1 = df[\"Баланс на счете\"].quantile(0.25)\n",
    "Q3 = df[\"Баланс на счете\"].quantile(0.75)\n",
    "IQR = Q3 - Q1\n",
    "lower = Q1 - 1.5 * IQR\n",
    "upper = Q3 + 1.5 * IQR\n",
    "df_removed = df[(df[\"Баланс на счете\"] >= lower) & (df[\"Баланс на счете\"] <= upper)]\n",
    "print(df_removed)"
   ]
  },
  {
   "cell_type": "markdown",
   "id": "de7e2a90-19b4-4f19-8734-9a3788f13e73",
   "metadata": {},
   "source": [
    "### Обрезка значений с помощью clip()"
   ]
  },
  {
   "cell_type": "code",
   "execution_count": 65,
   "id": "d8211932-b154-48c5-a970-92f93cc6f1bb",
   "metadata": {},
   "outputs": [
    {
     "name": "stdout",
     "output_type": "stream",
     "text": [
      "       Имя  Баланс на счете\n",
      "0     Анна            50000\n",
      "1     Иван            60000\n",
      "2    Ольга            45000\n",
      "3     Петр            30000\n",
      "4    Мария            65000\n",
      "5  Дмитрий           150000\n",
      "6    Елена           197500\n"
     ]
    }
   ],
   "source": [
    "df_clipped = df.copy()\n",
    "df_clipped[\"Баланс на счете\"] = df[\"Баланс на счете\"].clip(lower,\n",
    "upper)\n",
    "print(df_clipped)"
   ]
  },
  {
   "cell_type": "markdown",
   "id": "7a2a2647-7136-4e09-b9db-28f9c540e668",
   "metadata": {},
   "source": [
    "### логарифмическое преобразование"
   ]
  },
  {
   "cell_type": "code",
   "execution_count": 66,
   "id": "6ba20257-6b8f-4914-8654-ea424d4feafa",
   "metadata": {},
   "outputs": [
    {
     "name": "stdout",
     "output_type": "stream",
     "text": [
      "       Имя  Баланс на счете  Лог баланс\n",
      "0     Анна            50000   10.819798\n",
      "1     Иван            60000   11.002117\n",
      "2    Ольга            45000   10.714440\n",
      "3     Петр            30000   10.308986\n",
      "4    Мария            65000   11.082158\n",
      "5  Дмитрий           150000   11.918397\n",
      "6    Елена           200000   12.206078\n"
     ]
    }
   ],
   "source": [
    "df_log = df.copy()\n",
    "df_log[\"Лог баланс\"] = np.log1p(df[\"Баланс на счете\"])\n",
    "print(df_log[[\"Имя\", \"Баланс на счете\", \"Лог баланс\"]])"
   ]
  },
  {
   "cell_type": "markdown",
   "id": "a4116f56-46aa-48b9-8daf-4cd6a3d353eb",
   "metadata": {},
   "source": [
    "# Стандартизация признаков"
   ]
  },
  {
   "cell_type": "code",
   "execution_count": 67,
   "id": "a118cdb1-b2d5-40da-bf35-23b21d37a4bd",
   "metadata": {},
   "outputs": [
    {
     "name": "stdout",
     "output_type": "stream",
     "text": [
      "     Имя  Возраст  Зарплата\n",
      "0   Анна       25     50000\n",
      "1   Иван       30     60000\n",
      "2  Ольга       22     45000\n",
      "3   Петр       40     70000\n",
      "4  Мария       35     65000\n"
     ]
    }
   ],
   "source": [
    "import pandas as pd\n",
    "data = {\n",
    "\"Имя\": [\"Анна\", \"Иван\", \"Ольга\", \"Петр\", \"Мария\"],\n",
    "\"Возраст\": [25, 30, 22, 40, 35],\n",
    "\"Зарплата\": [50000, 60000, 45000, 70000, 65000]\n",
    "}\n",
    "df = pd.DataFrame(data)\n",
    "print(df)"
   ]
  },
  {
   "cell_type": "markdown",
   "id": "412cc8c6-e476-4bac-ab18-ed678d9b8843",
   "metadata": {},
   "source": [
    "### Ручная стандартизация средствами pandas"
   ]
  },
  {
   "cell_type": "code",
   "execution_count": 70,
   "id": "db6a8eef-72b4-458a-88be-f8e573a2160e",
   "metadata": {},
   "outputs": [
    {
     "name": "stdout",
     "output_type": "stream",
     "text": [
      "     Имя   Возраст  Зарплата\n",
      "0   Анна -0.739657 -0.771589\n",
      "1   Иван -0.054789  0.192897\n",
      "2  Ольга -1.150577 -1.253831\n",
      "3   Петр  1.314945  1.157383\n",
      "4  Мария  0.630078  0.675140\n"
     ]
    }
   ],
   "source": [
    "df_standardized = df.copy()\n",
    "df_standardized[\"Возраст\"] = (df[\"Возраст\"] - df[\"Возраст\"].mean()) / df[\"Возраст\"].std()\n",
    "df_standardized[\"Зарплата\"] = (df[\"Зарплата\"] - df[\"Зарплата\"].mean()) / df[\"Зарплата\"].std()\n",
    "print(df_standardized)"
   ]
  },
  {
   "cell_type": "markdown",
   "id": "0942bbba-138c-4f77-963d-75a3b88a0cdd",
   "metadata": {},
   "source": [
    "### Стандартизация с использованием StandardScaler"
   ]
  },
  {
   "cell_type": "code",
   "execution_count": 71,
   "id": "4fce47a7-26b6-45f8-bf73-dcb18f2777ad",
   "metadata": {},
   "outputs": [
    {
     "name": "stdout",
     "output_type": "stream",
     "text": [
      "     Имя   Возраст  Зарплата\n",
      "0   Анна -0.826961 -0.862662\n",
      "1   Иван -0.061256  0.215666\n",
      "2  Ольга -1.286384 -1.401826\n",
      "3   Петр  1.470153  1.293993\n",
      "4  Мария  0.704448  0.754829\n"
     ]
    }
   ],
   "source": [
    "from sklearn.preprocessing import StandardScaler\n",
    "scaler = StandardScaler()\n",
    "scaled_values = scaler.fit_transform(df[[\"Возраст\", \"Зарплата\"]])\n",
    "\n",
    "df_scaled = df.copy()\n",
    "df_scaled[[\"Возраст\", \"Зарплата\"]] = scaled_values\n",
    "print(df_scaled)"
   ]
  },
  {
   "cell_type": "markdown",
   "id": "9c98d932-e6d2-46f7-8ce0-ce74c1bc1705",
   "metadata": {},
   "source": [
    "# Нормализация признаков"
   ]
  },
  {
   "cell_type": "markdown",
   "id": "7265a571-2596-49a1-9634-011d68305d9d",
   "metadata": {},
   "source": [
    "### Ручная нормализация средствами pandas"
   ]
  },
  {
   "cell_type": "code",
   "execution_count": 74,
   "id": "d49220a5-0352-4e95-b23a-2025ec0a4b67",
   "metadata": {},
   "outputs": [
    {
     "name": "stdout",
     "output_type": "stream",
     "text": [
      "     Имя   Возраст  Зарплата\n",
      "0   Анна  0.166667       0.2\n",
      "1   Иван  0.444444       0.6\n",
      "2  Ольга  0.000000       0.0\n",
      "3   Петр  1.000000       1.0\n",
      "4  Мария  0.722222       0.8\n"
     ]
    }
   ],
   "source": [
    "df_normalized = df.copy()\n",
    "df_normalized[\"Возраст\"] = (df[\"Возраст\"] - df[\"Возраст\"].min()) / (df[\"Возраст\"].max() - df[\"Возраст\"].min()) \n",
    "df_normalized[\"Зарплата\"] = (df[\"Зарплата\"] - df[\"Зарплата\"].min()) / (df[\"Зарплата\"].max() - df[\"Зарплата\"].min())\n",
    "print(df_normalized)"
   ]
  },
  {
   "cell_type": "markdown",
   "id": "ca718d01-0c18-4c76-815f-94da4d43e930",
   "metadata": {},
   "source": [
    "### Нормализация с использованием MinMaxScaler"
   ]
  },
  {
   "cell_type": "code",
   "execution_count": 75,
   "id": "c5624e44-0dad-4721-b40d-70d7de7cbc71",
   "metadata": {},
   "outputs": [
    {
     "name": "stdout",
     "output_type": "stream",
     "text": [
      "     Имя   Возраст  Зарплата\n",
      "0   Анна  0.166667       0.2\n",
      "1   Иван  0.444444       0.6\n",
      "2  Ольга  0.000000       0.0\n",
      "3   Петр  1.000000       1.0\n",
      "4  Мария  0.722222       0.8\n"
     ]
    }
   ],
   "source": [
    "from sklearn.preprocessing import MinMaxScaler\n",
    "scaler = MinMaxScaler()\n",
    "scaled_values = scaler.fit_transform(df[[\"Возраст\", \"Зарплата\"]])\n",
    "df_scaled = df.copy()\n",
    "df_scaled[[\"Возраст\", \"Зарплата\"]] = scaled_values\n",
    "print(df_scaled)"
   ]
  },
  {
   "cell_type": "markdown",
   "id": "0e69c16d-efe2-4eae-a63f-260c9cda23e8",
   "metadata": {},
   "source": [
    "# Робастное масштабирование признако"
   ]
  },
  {
   "cell_type": "code",
   "execution_count": 78,
   "id": "88d74774-7129-46d7-a099-44a8346dd57d",
   "metadata": {},
   "outputs": [
    {
     "name": "stdout",
     "output_type": "stream",
     "text": [
      "       Имя  Возраст  Зарплата\n",
      "0     Анна       25     50000\n",
      "1     Иван       30     60000\n",
      "2    Ольга       22     45000\n",
      "3     Петр       40     70000\n",
      "4    Мария       35     65000\n",
      "5  Дмитрий      120   1000000\n",
      "6    Елена        5     10000\n"
     ]
    }
   ],
   "source": [
    "import pandas as pd\n",
    "data = {\n",
    "\"Имя\": [\"Анна\", \"Иван\", \"Ольга\", \"Петр\", \"Мария\", \"Дмитрий\",\n",
    "\"Елена\"],\n",
    "\"Возраст\": [25, 30, 22, 40, 35, 120, 5], # выбросы: 120, 5\n",
    "\"Зарплата\": [50000, 60000, 45000, 70000, 65000, 1000000, 10000] #выбросы: 1000000, 10000\n",
    "}\n",
    "\n",
    "df = pd.DataFrame(data)\n",
    "print(df)"
   ]
  },
  {
   "cell_type": "markdown",
   "id": "a36f4773-2b0c-471f-aedb-5f9e4e94ccf6",
   "metadata": {},
   "source": [
    "###  Робастное масштабирование средствами pandas"
   ]
  },
  {
   "cell_type": "code",
   "execution_count": 80,
   "id": "b01138fd-545f-42f5-8a9e-83c0a5c473e9",
   "metadata": {},
   "outputs": [
    {
     "name": "stdout",
     "output_type": "stream",
     "text": [
      "       Имя   Возраст  Зарплата\n",
      "0     Анна -0.357143     -0.50\n",
      "1     Иван  0.000000      0.00\n",
      "2    Ольга -0.571429     -0.75\n",
      "3     Петр  0.714286      0.50\n",
      "4    Мария  0.357143      0.25\n",
      "5  Дмитрий  6.428571     47.00\n",
      "6    Елена -1.785714     -2.50\n"
     ]
    }
   ],
   "source": [
    "df_robust = df.copy()\n",
    "for col in [\"Возраст\", \"Зарплата\"]:\n",
    "    median = df[col].median()\n",
    "    q1 = df[col].quantile(0.25)\n",
    "    q3 = df[col].quantile(0.75)\n",
    "    iqr = q3 - q1\n",
    "    df_robust[col] = (df[col] - median) / iqr\n",
    "print(df_robust)"
   ]
  },
  {
   "cell_type": "markdown",
   "id": "8b345c60-1cff-49ca-94ba-acd18d54b1d3",
   "metadata": {},
   "source": [
    "###  Робастное масштабирование средствами scikit-learn"
   ]
  },
  {
   "cell_type": "code",
   "execution_count": 81,
   "id": "95f1b1ee-57e8-405f-a518-17380fefb005",
   "metadata": {},
   "outputs": [
    {
     "name": "stdout",
     "output_type": "stream",
     "text": [
      "       Имя   Возраст  Зарплата\n",
      "0     Анна -0.357143     -0.50\n",
      "1     Иван  0.000000      0.00\n",
      "2    Ольга -0.571429     -0.75\n",
      "3     Петр  0.714286      0.50\n",
      "4    Мария  0.357143      0.25\n",
      "5  Дмитрий  6.428571     47.00\n",
      "6    Елена -1.785714     -2.50\n"
     ]
    }
   ],
   "source": [
    "from sklearn.preprocessing import RobustScaler\n",
    "scaler = RobustScaler()\n",
    "scaled_values = scaler.fit_transform(df[[\"Возраст\", \"Зарплата\"]])\n",
    "df_scaled = df.copy()\n",
    "df_scaled[[\"Возраст\", \"Зарплата\"]] = scaled_values\n",
    "print(df_scaled)"
   ]
  },
  {
   "cell_type": "markdown",
   "id": "f3f6d195-e858-46f1-9523-8f73f1111d1a",
   "metadata": {},
   "source": [
    "# Label Encoding"
   ]
  },
  {
   "cell_type": "code",
   "execution_count": 83,
   "id": "29900013-9c2d-47fd-ab2f-d550b72109b4",
   "metadata": {},
   "outputs": [
    {
     "name": "stdout",
     "output_type": "stream",
     "text": [
      "     Имя Образование\n",
      "0   Анна     среднее\n",
      "1   Иван      высшее\n",
      "2  Ольга   начальное\n",
      "3   Петр      высшее\n",
      "4  Мария     среднее\n"
     ]
    }
   ],
   "source": [
    "import pandas as pd\n",
    "data = {\n",
    "\"Имя\": [\"Анна\", \"Иван\", \"Ольга\", \"Петр\", \"Мария\"],\n",
    "\"Образование\": [\"среднее\", \"высшее\", \"начальное\", \"высшее\",\n",
    "\"среднее\"]\n",
    "}\n",
    "df = pd.DataFrame(data)\n",
    "print(df)"
   ]
  },
  {
   "cell_type": "markdown",
   "id": "1476017a-b53f-414b-b025-964c242b9f00",
   "metadata": {},
   "source": [
    "### Label Encoding с использованием pandas.factorize()"
   ]
  },
  {
   "cell_type": "code",
   "execution_count": 84,
   "id": "3937d73c-1246-43d4-844a-5a03e9bffa4d",
   "metadata": {},
   "outputs": [
    {
     "name": "stdout",
     "output_type": "stream",
     "text": [
      "     Имя  Образование\n",
      "0   Анна            0\n",
      "1   Иван            1\n",
      "2  Ольга            2\n",
      "3   Петр            1\n",
      "4  Мария            0\n"
     ]
    }
   ],
   "source": [
    "df_encoded = df.copy()\n",
    "df_encoded[\"Образование\"] = pd.factorize(df[\"Образование\"])[0]\n",
    "print(df_encoded)"
   ]
  },
  {
   "cell_type": "markdown",
   "id": "3a64c926-12ec-49f0-a388-b185535718ca",
   "metadata": {},
   "source": [
    "### Label Encoding с использованием pandas.map()"
   ]
  },
  {
   "cell_type": "code",
   "execution_count": 85,
   "id": "466f6984-6a2c-40c4-9530-5c1e51e541b0",
   "metadata": {},
   "outputs": [
    {
     "name": "stdout",
     "output_type": "stream",
     "text": [
      "     Имя  Образование\n",
      "0   Анна            1\n",
      "1   Иван            2\n",
      "2  Ольга            0\n",
      "3   Петр            2\n",
      "4  Мария            1\n"
     ]
    }
   ],
   "source": [
    "ordered_mapping = {\n",
    "\"начальное\": 0,\n",
    "\"среднее\": 1,\n",
    "\"высшее\": 2\n",
    "}\n",
    "df_ordered = df.copy()\n",
    "df_ordered[\"Образование\"] = df[\"Образование\"].map(ordered_mapping)\n",
    "print(df_ordered)"
   ]
  },
  {
   "cell_type": "markdown",
   "id": "c8545b9c-3f33-41bb-923f-5ae59191db5d",
   "metadata": {},
   "source": [
    "###  Label Encoding с использованием OrdinalEncoder из scikit-learn"
   ]
  },
  {
   "cell_type": "code",
   "execution_count": 86,
   "id": "a2d57f78-7168-4155-9531-5c9fe45aea41",
   "metadata": {},
   "outputs": [
    {
     "name": "stdout",
     "output_type": "stream",
     "text": [
      "     Имя  Образование\n",
      "0   Анна          1.0\n",
      "1   Иван          2.0\n",
      "2  Ольга          0.0\n",
      "3   Петр          2.0\n",
      "4  Мария          1.0\n"
     ]
    }
   ],
   "source": [
    "from sklearn.preprocessing import OrdinalEncoder\n",
    "\n",
    "encoder = OrdinalEncoder(categories=[[\"начальное\", \"среднее\",\n",
    "\"высшее\"]])\n",
    "X = df[[\"Образование\"]]\n",
    "X_encoded = encoder.fit_transform(X)\n",
    "df_encoded = df.copy()\n",
    "df_encoded[\"Образование\"] = X_encoded\n",
    "print(df_encoded)"
   ]
  },
  {
   "cell_type": "markdown",
   "id": "bd0e010f-8bce-434c-b011-f07e745593c0",
   "metadata": {},
   "source": [
    "# One-Hot Encoding"
   ]
  },
  {
   "cell_type": "code",
   "execution_count": 87,
   "id": "3d4c870a-ef00-4751-ad3d-f4422dfe5cdc",
   "metadata": {},
   "outputs": [
    {
     "name": "stdout",
     "output_type": "stream",
     "text": [
      "     Имя   Город\n",
      "0   Анна  Москва\n",
      "1   Иван     СПб\n",
      "2  Ольга  Казань\n",
      "3   Петр  Москва\n",
      "4  Мария  Казань\n"
     ]
    }
   ],
   "source": [
    "import pandas as pd\n",
    "data = {\n",
    "\"Имя\": [\"Анна\", \"Иван\", \"Ольга\", \"Петр\", \"Мария\"],\n",
    "\"Город\": [\"Москва\", \"СПб\", \"Казань\", \"Москва\", \"Казань\"]\n",
    "}\n",
    "df = pd.DataFrame(data)\n",
    "print(df)"
   ]
  },
  {
   "cell_type": "markdown",
   "id": "ef1fa654-d3c7-47dd-b2fd-a7e57a8bb684",
   "metadata": {},
   "source": [
    "### Кодирование с помощью pandas.get_dummies()"
   ]
  },
  {
   "cell_type": "code",
   "execution_count": 89,
   "id": "3dddd87c-310c-47f9-ad25-be39cae5e47c",
   "metadata": {},
   "outputs": [
    {
     "name": "stdout",
     "output_type": "stream",
     "text": [
      "     Имя  Город_Казань  Город_Москва  Город_СПб\n",
      "0   Анна         False          True      False\n",
      "1   Иван         False         False       True\n",
      "2  Ольга          True         False      False\n",
      "3   Петр         False          True      False\n",
      "4  Мария          True         False      False\n"
     ]
    }
   ],
   "source": [
    "\n",
    "df_encoded = pd.get_dummies(df, columns=[\"Город\"])\n",
    "print(df_encoded)"
   ]
  },
  {
   "cell_type": "markdown",
   "id": "29aa7013-453b-41c0-b5d9-de1788561016",
   "metadata": {},
   "source": [
    "### Кодирование с помощью OneHotEncoder из scikit-learn"
   ]
  },
  {
   "cell_type": "code",
   "execution_count": 92,
   "id": "3ace8c7a-a569-4107-9089-eaeaede8bbba",
   "metadata": {},
   "outputs": [
    {
     "name": "stdout",
     "output_type": "stream",
     "text": [
      "   Город_Казань  Город_Москва  Город_СПб\n",
      "0           0.0           1.0        0.0\n",
      "1           0.0           0.0        1.0\n",
      "2           1.0           0.0        0.0\n",
      "3           0.0           1.0        0.0\n",
      "4           1.0           0.0        0.0\n"
     ]
    }
   ],
   "source": [
    "from sklearn.preprocessing import OneHotEncoder\n",
    "import pandas as pd\n",
    "\n",
    "# Создаём экземпляр OneHotEncoder\n",
    "encoder = OneHotEncoder()  # параметр sparse больше не используется\n",
    "\n",
    "# Применяем к столбцу \"Город\" и преобразуем разреженную матрицу в массив\n",
    "encoded = encoder.fit_transform(df[[\"Город\"]]).toarray()\n",
    "\n",
    "# Создаём DataFrame с новыми колонками\n",
    "df_encoded = pd.DataFrame(\n",
    "    encoded,\n",
    "    columns=encoder.get_feature_names_out([\"Город\"])\n",
    ")\n",
    "\n",
    "print(df_encoded)"
   ]
  },
  {
   "cell_type": "markdown",
   "id": "a6dc11ae-20cf-4b0c-81ea-52ce8c35b64f",
   "metadata": {},
   "source": [
    "### Target Encoding"
   ]
  },
  {
   "cell_type": "code",
   "execution_count": 93,
   "id": "ed8a5811-c1ca-4aa6-ba6f-a2c3a383634c",
   "metadata": {},
   "outputs": [
    {
     "name": "stdout",
     "output_type": "stream",
     "text": [
      "        Имя   Город  Доход\n",
      "0      Анна  Москва  50000\n",
      "1      Иван     СПб  60000\n",
      "2     Ольга  Казань  45000\n",
      "3      Петр  Москва  70000\n",
      "4     Мария  Казань  65000\n",
      "5      Олег     СПб  58000\n",
      "6  Светлана  Казань  47000\n"
     ]
    }
   ],
   "source": [
    "import pandas as pd\n",
    "data = {\n",
    "\"Имя\": [\"Анна\", \"Иван\", \"Ольга\", \"Петр\", \"Мария\", \"Олег\",\n",
    "\"Светлана\"],\n",
    "\"Город\": [\"Москва\", \"СПб\", \"Казань\", \"Москва\", \"Казань\", \"СПб\",\n",
    "\"Казань\"],\n",
    "\"Доход\": [50000, 60000, 45000, 70000, 65000, 58000, 47000]\n",
    "}\n",
    "df = pd.DataFrame(data)\n",
    "print(df)"
   ]
  },
  {
   "cell_type": "markdown",
   "id": "23ecf30d-f8e1-4d27-b466-e0ba9cc9f803",
   "metadata": {},
   "source": [
    "### Target Encoding средствами pandas"
   ]
  },
  {
   "cell_type": "code",
   "execution_count": 94,
   "id": "78630195-659c-4b7d-9704-69c2f9106e86",
   "metadata": {},
   "outputs": [
    {
     "name": "stdout",
     "output_type": "stream",
     "text": [
      "        Имя         Город  Доход\n",
      "0      Анна  60000.000000  50000\n",
      "1      Иван  59000.000000  60000\n",
      "2     Ольга  52333.333333  45000\n",
      "3      Петр  60000.000000  70000\n",
      "4     Мария  52333.333333  65000\n",
      "5      Олег  59000.000000  58000\n",
      "6  Светлана  52333.333333  47000\n"
     ]
    }
   ],
   "source": [
    "mean_target = df.groupby(\"Город\")[\"Доход\"].mean()\n",
    "df_encoded = df.copy()\n",
    "df_encoded[\"Город\"] = df[\"Город\"].map(mean_target)\n",
    "print(df_encoded)"
   ]
  }
 ],
 "metadata": {
  "kernelspec": {
   "display_name": "Python 3 (ipykernel)",
   "language": "python",
   "name": "python3"
  },
  "language_info": {
   "codemirror_mode": {
    "name": "ipython",
    "version": 3
   },
   "file_extension": ".py",
   "mimetype": "text/x-python",
   "name": "python",
   "nbconvert_exporter": "python",
   "pygments_lexer": "ipython3",
   "version": "3.12.3"
  }
 },
 "nbformat": 4,
 "nbformat_minor": 5
}
